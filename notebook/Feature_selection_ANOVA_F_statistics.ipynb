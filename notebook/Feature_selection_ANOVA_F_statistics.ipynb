{
  "nbformat": 4,
  "nbformat_minor": 0,
  "metadata": {
    "colab": {
      "provenance": []
    },
    "kernelspec": {
      "name": "python3",
      "display_name": "Python 3"
    },
    "language_info": {
      "name": "python"
    }
  },
  "cells": [
    {
      "cell_type": "code",
      "execution_count": null,
      "metadata": {
        "id": "sqF775nTG5Si"
      },
      "outputs": [],
      "source": [
        "from sklearn.feature_selection import SelectKBest, f_classif\n",
        "from sklearn.model_selection import train_test_split\n",
        "from sklearn.linear_model import LogisticRegression\n",
        "from sklearn.metrics import accuracy_score, classification_report, confusion_matrix\n",
        "from sklearn.preprocessing import LabelEncoder, StandardScaler\n",
        "import pandas as pd\n",
        "import warnings\n",
        "\n",
        "# Ignore convergence warnings\n",
        "warnings.filterwarnings(\"ignore\", category=UserWarning)\n",
        "\n",
        "# Assume df is your dataframe with relevant columns\n",
        "\n",
        "# List of chronic conditions\n",
        "chronic_conditions = ['Heart Attack', 'Angina Or Coronary Heart Disease', 'Stroke']\n",
        "\n",
        "# Create a copy of the original dataframe\n",
        "df_copy = df.copy()\n",
        "\n",
        "# List to store selected features for each condition\n",
        "selected_features_list = []\n",
        "\n",
        "for condition in chronic_conditions:\n",
        "    # Encode target variable\n",
        "    label_encoder = LabelEncoder()\n",
        "    df_copy[condition] = label_encoder.fit_transform(df_copy[condition])\n",
        "\n",
        "    # Encode categorical columns\n",
        "    categorical_columns = df_copy.select_dtypes(include=['object']).columns\n",
        "    for col in categorical_columns:\n",
        "        df_copy[col] = label_encoder.fit_transform(df_copy[col])\n",
        "\n",
        "    # Split the data\n",
        "    X = df_copy.drop([condition], axis=1)  # Features\n",
        "    y = df_copy[condition]  # Target variable\n",
        "\n",
        "    # Feature scaling\n",
        "    scaler = StandardScaler()\n",
        "    X_scaled = scaler.fit_transform(X)\n",
        "\n",
        "    # Apply SelectKBest to select the top k features based on ANOVA F-statisticsANOVA F-statistics\n",
        "    k_best_features = 15\n",
        "    selector = SelectKBest(f_classif, k=k_best_features)\n",
        "    X_selected = selector.fit_transform(X_scaled, y)\n",
        "\n",
        "    # Store the selected features for this condition\n",
        "    selected_features_list.append(set(X.columns[selector.get_support()]))\n",
        "\n",
        "# Take the intersection of selected features across all conditions\n",
        "common_features = set.intersection(*selected_features_list)\n",
        "\n",
        "print(f\"Common top {k_best_features} features for all conditions: {common_features}\")\n"
      ]
    }
  ]
}